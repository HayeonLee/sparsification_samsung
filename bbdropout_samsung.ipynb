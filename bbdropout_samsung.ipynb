{
  "nbformat": 4,
  "nbformat_minor": 0,
  "metadata": {
    "colab": {
      "name": "bbdropout_samsung",
      "version": "0.3.2",
      "provenance": [],
      "collapsed_sections": [],
      "include_colab_link": true
    },
    "kernelspec": {
      "name": "python2",
      "display_name": "Python 2"
    },
    "accelerator": "GPU"
  },
  "cells": [
    {
      "cell_type": "markdown",
      "metadata": {
        "id": "view-in-github",
        "colab_type": "text"
      },
      "source": [
        "<a href=\"https://colab.research.google.com/github/HayeonLee/sparsification_samsung/blob/master/bbdropout_samsung.ipynb\" target=\"_parent\"><img src=\"https://colab.research.google.com/assets/colab-badge.svg\" alt=\"Open In Colab\"/></a>"
      ]
    },
    {
      "cell_type": "markdown",
      "metadata": {
        "id": "UD6bQj0iVZM9",
        "colab_type": "text"
      },
      "source": [
        "# Network Sparsification Example : Beta-Bernoulli Dropout"
      ]
    },
    {
      "cell_type": "markdown",
      "metadata": {
        "id": "dSc0p6Y6VvoL",
        "colab_type": "text"
      },
      "source": [
        "[Adaptive Network Sparsification with Dependent Variational Beta-Bernoulli Dropout](https://arxiv.org/abs/1805.10896)"
      ]
    },
    {
      "cell_type": "markdown",
      "metadata": {
        "id": "kP0DgMlDV64u",
        "colab_type": "text"
      },
      "source": [
        "## Import Tensorflow and other libraries"
      ]
    },
    {
      "cell_type": "code",
      "metadata": {
        "id": "fNpLz5neUrqd",
        "colab_type": "code",
        "outputId": "b6bcc7c7-f9de-47ad-f32d-afc6fd170332",
        "colab": {
          "base_uri": "https://localhost:8080/",
          "height": 690
        }
      },
      "source": [
        "#from __future__ import absolute_import, division, print_function, unicode_literals\n",
        "#기존에 설치된 다른 버전의 tensorflow를 제거합니다.\n",
        "!pip uninstall tensorboard -y\n",
        "!pip uninstall tensorflow-gpu -y\n",
        "!pip uninstall tensorflow -y\n",
        "#tensorflow gpu 버전을 설치합니다\n",
        "!pip install tensorflow-gpu==1.14"
      ],
      "execution_count": 1,
      "outputs": [
        {
          "output_type": "stream",
          "text": [
            "Uninstalling tensorboard-1.14.0:\n",
            "  Successfully uninstalled tensorboard-1.14.0\n",
            "\u001b[33mWARNING: Skipping tensorflow-gpu as it is not installed.\u001b[0m\n",
            "Uninstalling tensorflow-1.14.0:\n",
            "  Successfully uninstalled tensorflow-1.14.0\n",
            "Collecting tensorflow-gpu==1.14\n",
            "\u001b[?25l  Downloading https://files.pythonhosted.org/packages/41/6d/2348df00a34baaabdef0fdb4f46f962f7a8a6720362c26c3a44a249767ea/tensorflow_gpu-1.14.0-cp27-cp27mu-manylinux1_x86_64.whl (377.0MB)\n",
            "\u001b[K     |████████████████████████████████| 377.0MB 43kB/s \n",
            "\u001b[?25hRequirement already satisfied: grpcio>=1.8.6 in /usr/local/lib/python2.7/dist-packages (from tensorflow-gpu==1.14) (1.15.0)\n",
            "Requirement already satisfied: mock>=2.0.0 in /usr/local/lib/python2.7/dist-packages (from tensorflow-gpu==1.14) (2.0.0)\n",
            "Requirement already satisfied: keras-applications>=1.0.6 in /usr/local/lib/python2.7/dist-packages (from tensorflow-gpu==1.14) (1.0.8)\n",
            "Requirement already satisfied: wrapt>=1.11.1 in /usr/local/lib/python2.7/dist-packages (from tensorflow-gpu==1.14) (1.11.2)\n",
            "Requirement already satisfied: protobuf>=3.6.1 in /usr/local/lib/python2.7/dist-packages (from tensorflow-gpu==1.14) (3.7.1)\n",
            "Requirement already satisfied: keras-preprocessing>=1.0.5 in /usr/local/lib/python2.7/dist-packages (from tensorflow-gpu==1.14) (1.1.0)\n",
            "Requirement already satisfied: gast>=0.2.0 in /usr/local/lib/python2.7/dist-packages (from tensorflow-gpu==1.14) (0.2.2)\n",
            "Requirement already satisfied: wheel in /usr/local/lib/python2.7/dist-packages (from tensorflow-gpu==1.14) (0.33.4)\n",
            "Requirement already satisfied: numpy<2.0,>=1.14.5 in /usr/local/lib/python2.7/dist-packages (from tensorflow-gpu==1.14) (1.16.4)\n",
            "Requirement already satisfied: termcolor>=1.1.0 in /usr/local/lib/python2.7/dist-packages (from tensorflow-gpu==1.14) (1.1.0)\n",
            "Requirement already satisfied: six>=1.10.0 in /usr/local/lib/python2.7/dist-packages (from tensorflow-gpu==1.14) (1.12.0)\n",
            "Requirement already satisfied: absl-py>=0.7.0 in /usr/local/lib/python2.7/dist-packages (from tensorflow-gpu==1.14) (0.7.1)\n",
            "Collecting tensorboard<1.15.0,>=1.14.0 (from tensorflow-gpu==1.14)\n",
            "\u001b[?25l  Downloading https://files.pythonhosted.org/packages/f4/37/e6a7af1c92c5b68fb427f853b06164b56ea92126bcfd87784334ec5e4d42/tensorboard-1.14.0-py2-none-any.whl (3.1MB)\n",
            "\u001b[K     |████████████████████████████████| 3.2MB 29.6MB/s \n",
            "\u001b[?25hRequirement already satisfied: tensorflow-estimator<1.15.0rc0,>=1.14.0rc0 in /usr/local/lib/python2.7/dist-packages (from tensorflow-gpu==1.14) (1.14.0)\n",
            "Requirement already satisfied: google-pasta>=0.1.6 in /usr/local/lib/python2.7/dist-packages (from tensorflow-gpu==1.14) (0.1.7)\n",
            "Requirement already satisfied: backports.weakref>=1.0rc1 in /usr/local/lib/python2.7/dist-packages (from tensorflow-gpu==1.14) (1.0.post1)\n",
            "Requirement already satisfied: enum34>=1.1.6 in /usr/local/lib/python2.7/dist-packages (from tensorflow-gpu==1.14) (1.1.6)\n",
            "Requirement already satisfied: astor>=0.6.0 in /usr/local/lib/python2.7/dist-packages (from tensorflow-gpu==1.14) (0.8.0)\n",
            "Requirement already satisfied: futures>=2.2.0 in /usr/local/lib/python2.7/dist-packages (from grpcio>=1.8.6->tensorflow-gpu==1.14) (3.2.0)\n",
            "Requirement already satisfied: funcsigs>=1; python_version < \"3.3\" in /usr/local/lib/python2.7/dist-packages (from mock>=2.0.0->tensorflow-gpu==1.14) (1.0.2)\n",
            "Requirement already satisfied: pbr>=0.11 in /usr/local/lib/python2.7/dist-packages (from mock>=2.0.0->tensorflow-gpu==1.14) (5.4.0)\n",
            "Requirement already satisfied: h5py in /usr/local/lib/python2.7/dist-packages (from keras-applications>=1.0.6->tensorflow-gpu==1.14) (2.8.0)\n",
            "Requirement already satisfied: setuptools in /usr/local/lib/python2.7/dist-packages (from protobuf>=3.6.1->tensorflow-gpu==1.14) (41.0.1)\n",
            "Requirement already satisfied: werkzeug>=0.11.15 in /usr/local/lib/python2.7/dist-packages (from tensorboard<1.15.0,>=1.14.0->tensorflow-gpu==1.14) (0.15.5)\n",
            "Requirement already satisfied: markdown>=2.6.8 in /usr/local/lib/python2.7/dist-packages (from tensorboard<1.15.0,>=1.14.0->tensorflow-gpu==1.14) (3.1.1)\n",
            "Installing collected packages: tensorboard, tensorflow-gpu\n",
            "Successfully installed tensorboard-1.14.0 tensorflow-gpu-1.14.0\n"
          ],
          "name": "stdout"
        }
      ]
    },
    {
      "cell_type": "code",
      "metadata": {
        "id": "68oyuhXNWEQ6",
        "colab_type": "code",
        "outputId": "393056b7-9193-42c3-9ea8-389f30bd19cd",
        "colab": {
          "base_uri": "https://localhost:8080/",
          "height": 35
        }
      },
      "source": [
        "import tensorflow as tf # tensorflow를 import해줍니다\n",
        "tf.__version__ # 내가 사용할 tensorflow의 버전을 나타냅니다"
      ],
      "execution_count": 2,
      "outputs": [
        {
          "output_type": "execute_result",
          "data": {
            "text/plain": [
              "'1.14.0'"
            ]
          },
          "metadata": {
            "tags": []
          },
          "execution_count": 2
        }
      ]
    },
    {
      "cell_type": "code",
      "metadata": {
        "id": "nkYfIMpyYdPZ",
        "colab_type": "code",
        "outputId": "d7468fd3-b842-4a90-cf2c-baf1c1e925f2",
        "colab": {
          "base_uri": "https://localhost:8080/",
          "height": 508
        }
      },
      "source": [
        "# pretrain된 lenet의 체크포인트 파일을 가져옵니다.\n",
        "!mkdir -p results/\n",
        "!wget -O lenet_dense_pretrained.zip https://github.com/HayeonLee/sparsification_samsung/blob/master/lenet_dense_pretrained.zip?raw=true\n",
        "!unzip lenet_dense_pretrained.zip -d results/\n",
        "!rm lenet_dense_pretrained.zip\n",
        "!ls\n",
        "!ls results/pretrained/"
      ],
      "execution_count": 3,
      "outputs": [
        {
          "output_type": "stream",
          "text": [
            "--2019-07-24 04:26:18--  https://github.com/HayeonLee/sparsification_samsung/blob/master/lenet_dense_pretrained.zip?raw=true\n",
            "Resolving github.com (github.com)... 140.82.114.4\n",
            "Connecting to github.com (github.com)|140.82.114.4|:443... connected.\n",
            "HTTP request sent, awaiting response... 302 Found\n",
            "Location: https://github.com/HayeonLee/sparsification_samsung/raw/master/lenet_dense_pretrained.zip [following]\n",
            "--2019-07-24 04:26:18--  https://github.com/HayeonLee/sparsification_samsung/raw/master/lenet_dense_pretrained.zip\n",
            "Reusing existing connection to github.com:443.\n",
            "HTTP request sent, awaiting response... 302 Found\n",
            "Location: https://raw.githubusercontent.com/HayeonLee/sparsification_samsung/master/lenet_dense_pretrained.zip [following]\n",
            "--2019-07-24 04:26:18--  https://raw.githubusercontent.com/HayeonLee/sparsification_samsung/master/lenet_dense_pretrained.zip\n",
            "Resolving raw.githubusercontent.com (raw.githubusercontent.com)... 151.101.0.133, 151.101.64.133, 151.101.128.133, ...\n",
            "Connecting to raw.githubusercontent.com (raw.githubusercontent.com)|151.101.0.133|:443... connected.\n",
            "HTTP request sent, awaiting response... 200 OK\n",
            "Length: 2080208 (2.0M) [application/zip]\n",
            "Saving to: ‘lenet_dense_pretrained.zip’\n",
            "\n",
            "lenet_dense_pretrai 100%[===================>]   1.98M  --.-KB/s    in 0.09s   \n",
            "\n",
            "2019-07-24 04:26:19 (22.6 MB/s) - ‘lenet_dense_pretrained.zip’ saved [2080208/2080208]\n",
            "\n",
            "Archive:  lenet_dense_pretrained.zip\n",
            "  inflating: results/pretrained/checkpoint  \n",
            "  inflating: results/pretrained/model.data-00000-of-00001  \n",
            "  inflating: results/pretrained/model.index  \n",
            "  inflating: results/pretrained/model.meta  \n",
            "results  sample_data\n",
            "checkpoint  model.data-00000-of-00001  model.index  model.meta\n"
          ],
          "name": "stdout"
        }
      ]
    },
    {
      "cell_type": "code",
      "metadata": {
        "id": "XR4m7OXGAt8i",
        "colab_type": "code",
        "colab": {}
      },
      "source": [
        "# 필요한 라이브러리를 임포트합니다.\n",
        "from __future__ import print_function\n",
        "import time\n",
        "import os\n",
        "from pylab import *\n",
        "import numpy as np\n",
        "from tensorflow.python.client import device_lib\n",
        "from tensorflow.contrib.distributions import RelaxedBernoulli\n",
        "from tensorflow.examples.tutorials.mnist import input_data"
      ],
      "execution_count": 0,
      "outputs": []
    },
    {
      "cell_type": "markdown",
      "metadata": {
        "id": "gJ0R62L8WvSu",
        "colab_type": "text"
      },
      "source": [
        "## Define the functions and utils"
      ]
    },
    {
      "cell_type": "code",
      "metadata": {
        "id": "iFCAzQYqfrzP",
        "colab_type": "code",
        "colab": {}
      },
      "source": [
        "# 자주 쓰는 텐서플로우 함수의 약어를 지정합니다.\n",
        "logit = lambda x: tf.log(x + 1e-20) - tf.log(1-x + 1e-20)\n",
        "softplus = tf.nn.softplus\n",
        "relu = tf.nn.relu\n",
        "\n",
        "dense = tf.layers.dense\n",
        "flatten = tf.contrib.layers.flatten\n",
        "\n",
        "def conv(x, filters, kernel_size=3, strides=1, **kwargs):\n",
        "    return tf.layers.conv2d(x, filters, kernel_size, strides,\n",
        "            data_format='channels_first', **kwargs)\n",
        "\n",
        "def pool(x, **kwargs):\n",
        "    return tf.layers.max_pooling2d(x, 2, 2,\n",
        "            data_format='channels_first', **kwargs)\n",
        "\n",
        "def global_avg_pool(x):\n",
        "    return tf.reduce_mean(x, axis=[2, 3])\n",
        "\n",
        "layer_norm = tf.contrib.layers.layer_norm"
      ],
      "execution_count": 0,
      "outputs": []
    },
    {
      "cell_type": "code",
      "metadata": {
        "id": "sJrRN4ujgQh9",
        "colab_type": "code",
        "colab": {}
      },
      "source": [
        "# utils/train.py\n",
        "# 필요한 함수를 정의합니다.\n",
        "def cross_entropy(logits, labels):\n",
        "    return tf.losses.softmax_cross_entropy(logits=logits, onehot_labels=labels)\n",
        "\n",
        "def weight_decay(decay, var_list=None):\n",
        "    var_list = tf.trainable_variables() if var_list is None else var_list\n",
        "    return decay*tf.add_n([tf.nn.l2_loss(var) for var in var_list])\n",
        "\n",
        "def accuracy(logits, labels):\n",
        "    correct = tf.equal(tf.argmax(logits, 1), tf.argmax(labels, 1))\n",
        "    return tf.reduce_mean(tf.cast(correct, tf.float32))\n",
        "  \n",
        "def digamma_approx(x):\n",
        "# @MISC {1446110,\n",
        "# TITLE = {Approximating the Digamma function},\n",
        "# AUTHOR = {njuffa (https://math.stackexchange.com/users/114200/njuffa)},\n",
        "# HOWPUBLISHED = {Mathematics Stack Exchange},\n",
        "# NOTE = {URL:https://math.stackexchange.com/q/1446110 (version: 2015-09-22)},\n",
        "# EPRINT = {https://math.stackexchange.com/q/1446110},\n",
        "# URL = {https://math.stackexchange.com/q/1446110}}\n",
        "    def digamma_over_one(x):\n",
        "        return tf.log(x + 0.4849142940227510) \\\n",
        "                - 1/(1.0271785180163817*x)\n",
        "    return digamma_over_one(x+1) - 1./x"
      ],
      "execution_count": 0,
      "outputs": []
    },
    {
      "cell_type": "code",
      "metadata": {
        "colab_type": "code",
        "id": "x9RShCp_DDOz",
        "colab": {}
      },
      "source": [
        "# log를 출력하기 위한 함수를 선언합니다.\n",
        "class Accumulator():\n",
        "    def __init__(self, *args):\n",
        "        self.args = args\n",
        "        self.argdict = {}\n",
        "        for i, arg in enumerate(args):\n",
        "            self.argdict[arg] = i\n",
        "        self.sums = [0]*len(args)\n",
        "        self.cnt = 0\n",
        "\n",
        "    def accum(self, val):\n",
        "        val = [val] if type(val) is not list else val\n",
        "        val = [v for v in val if v is not None]\n",
        "        assert(len(val) == len(self.args))\n",
        "        for i in range(len(val)):\n",
        "            self.sums[i] += val[i]\n",
        "        self.cnt += 1\n",
        "\n",
        "    def clear(self):\n",
        "        self.sums = [0]*len(self.args)\n",
        "        self.cnt = 0\n",
        "\n",
        "    def get(self, arg, avg=True):\n",
        "        i = self.argdict.get(arg, -1)\n",
        "        assert(i is not -1)\n",
        "        return (self.sums[i]/self.cnt if avg else self.sums[i])\n",
        "\n",
        "    def print_(self, header=None, epoch=None, it=None, time=None,\n",
        "            logfile=None, do_not_print=[], as_int=[],\n",
        "            avg=True):\n",
        "        line = '' if header is None else header + ': '\n",
        "        if epoch is not None:\n",
        "            line += ('epoch %d, ' % epoch)\n",
        "        if it is not None:\n",
        "            line += ('iter %d, ' % it)\n",
        "        if time is not None:\n",
        "            line += ('(%.3f secs), ' % time)\n",
        "\n",
        "        args = [arg for arg in self.args if arg not in do_not_print]\n",
        "\n",
        "        for arg in args[:-1]:\n",
        "            val = self.sums[self.argdict[arg]]\n",
        "            if avg:\n",
        "                val /= self.cnt\n",
        "            if arg in as_int:\n",
        "                line += ('%s %d, ' % (arg, int(val)))\n",
        "            else:\n",
        "                line += ('%s %f, ' % (arg, val))\n",
        "        val = self.sums[self.argdict[args[-1]]]\n",
        "        if avg:\n",
        "            val /= self.cnt\n",
        "        if arg in as_int:\n",
        "            line += ('%s %d, ' % (arg, int(val)))\n",
        "        else:\n",
        "            line += ('%s %f' % (args[-1], val))\n",
        "        print(line)\n",
        "\n",
        "        if logfile is not None:\n",
        "            logfile.write(line + '\\n')"
      ],
      "execution_count": 0,
      "outputs": []
    },
    {
      "cell_type": "markdown",
      "metadata": {
        "id": "ZF1WUmZRIdss",
        "colab_type": "text"
      },
      "source": [
        "## Prepare the dataset: MNIST"
      ]
    },
    {
      "cell_type": "code",
      "metadata": {
        "id": "Q21ZNy8bhTpL",
        "colab_type": "code",
        "colab": {}
      },
      "source": [
        "MNIST_PATH = './mnist'\n",
        "\n",
        "def mnist_input(batch_size):\n",
        "    mnist = input_data.read_data_sets(MNIST_PATH, one_hot=True, validation_size=0)\n",
        "    n_train_batches = mnist.train.num_examples/batch_size\n",
        "    n_test_batches = mnist.test.num_examples/batch_size\n",
        "    return mnist, n_train_batches, n_test_batches"
      ],
      "execution_count": 0,
      "outputs": []
    },
    {
      "cell_type": "markdown",
      "metadata": {
        "id": "r3lKC6JjHRKM",
        "colab_type": "text"
      },
      "source": [
        "##Create models"
      ]
    },
    {
      "cell_type": "code",
      "metadata": {
        "id": "Yg7YnEexflxJ",
        "colab_type": "code",
        "colab": {}
      },
      "source": [
        "# fully connected layers로 구성된 lenet을 선언합니다. \n",
        "def lenet_dense(x, y, training, name='lenet', reuse=None,\n",
        "        dropout=None, **dropout_kwargs):\n",
        "    dropout_ = lambda x, subname: x if dropout is None else \\\n",
        "            dropout(x, training, name=name+subname, reuse=reuse,\n",
        "                    **dropout_kwargs)\n",
        "    x = dense(dropout_(x, '/dropout1'), 500, activation=relu,\n",
        "            name=name+'/dense1', reuse=reuse)\n",
        "    x = dense(dropout_(x, '/dropout2'), 300, activation=relu,\n",
        "            name=name+'/dense2', reuse=reuse)\n",
        "    x = dense(dropout_(x, '/dropout3'), 10, name=name+'/dense3', reuse=reuse)\n",
        "\n",
        "    net = {}\n",
        "    all_vars = tf.get_collection('variables', scope=name)\n",
        "    net['qpi_vars'] = [v for v in all_vars if 'qpi_vars' in v.name]\n",
        "    net['pzx_vars'] = [v for v in all_vars if 'pzx_vars' in v.name]\n",
        "    net['weights'] = [v for v in all_vars \\\n",
        "            if 'qpi_vars' not in v.name and 'pzx_vars' not in v.name]\n",
        "\n",
        "    net['cent'] = cross_entropy(x, y)\n",
        "    net['wd'] = weight_decay(1e-4, var_list=net['weights'])\n",
        "    net['acc'] = accuracy(x, y)\n",
        "\n",
        "    prefix = 'train_' if training else 'test_'\n",
        "    net['kl'] = tf.get_collection('kl')\n",
        "    net['pi'] = tf.get_collection(prefix+'pi')\n",
        "    net['n_active'] = tf.get_collection(prefix+'n_active')\n",
        "\n",
        "    return net\n"
      ],
      "execution_count": 0,
      "outputs": []
    },
    {
      "cell_type": "markdown",
      "metadata": {
        "id": "NA7g-bi7IP6w",
        "colab_type": "text"
      },
      "source": [
        "## Define the Beta-Bernoulli Dropout"
      ]
    },
    {
      "cell_type": "code",
      "metadata": {
        "id": "tJjoi_-lga15",
        "colab_type": "code",
        "colab": {}
      },
      "source": [
        "lgamma = tf.lgamma\n",
        "Euler = 0.577215664901532\n",
        "\n",
        "def bbdropout(x, training,\n",
        "        alpha=1e-4, thres=1e-2, a_init=-1., tau=1e-1, center_init=1.0,\n",
        "        approx_digamma=True, scale_kl=None, dep=False,\n",
        "        unit_scale=True, collect=True,\n",
        "        name='bbdropout', reuse=None):\n",
        "\n",
        "    N = tf.shape(x)[0]\n",
        "    K = x.shape[1].value\n",
        "    is_conv = len(x.shape)==4\n",
        "    log = lambda x: tf.log(x + 1e-20)\n",
        "\n",
        "    with tf.variable_scope(name+'/qpi_vars', reuse=reuse):\n",
        "        with tf.device('/cpu:0'):\n",
        "            a = softplus(tf.get_variable('a_uc', shape=[K],\n",
        "                initializer=tf.constant_initializer(a_init)))\n",
        "            b = softplus(tf.get_variable('b_uc', shape=[K]))\n",
        "\n",
        "    _digamma = digamma_approx \n",
        "    kl = (a-alpha)/a * (-Euler - _digamma(b) - 1/b) \\\n",
        "            + log(a*b) - log(alpha) - (b-1)/b\n",
        "    pi = (1 - tf.random_uniform([K])**(1/b))**(1/a) if training else \\\n",
        "            b*tf.exp(lgamma(1+1/a) + lgamma(b) - lgamma(1+1/a+b))\n",
        "    \n",
        "    if training:\n",
        "        z = RelaxedBernoulli(tau, logits=logit(pi)).sample(N)\n",
        "    else:\n",
        "        pi_ = tf.where(tf.greater(pi, thres), pi, tf.zeros_like(pi))\n",
        "        z = tf.tile(tf.expand_dims(pi_, 0), [N, 1])\n",
        "    n_active = tf.reduce_sum(tf.cast(tf.greater(pi, thres), tf.int32))\n",
        "\n",
        "    if scale_kl is None:\n",
        "        kl = tf.reduce_sum(kl)\n",
        "    else:\n",
        "        kl = scale_kl * tf.reduce_mean(kl)\n",
        "\n",
        "    if collect:\n",
        "        if reuse is not True:\n",
        "            tf.add_to_collection('kl', kl)\n",
        "        prefix = 'train_' if training else 'test_'\n",
        "        tf.add_to_collection(prefix+'pi', pi)\n",
        "        tf.add_to_collection(prefix+'n_active', n_active)\n",
        "\n",
        "    z = tf.reshape(z, ([-1, K, 1, 1] if is_conv else [-1, K]))\n",
        "    return x*z\n"
      ],
      "execution_count": 0,
      "outputs": []
    },
    {
      "cell_type": "markdown",
      "metadata": {
        "id": "InEG2TA3Iilj",
        "colab_type": "text"
      },
      "source": [
        "## Let's run the code!"
      ]
    },
    {
      "cell_type": "code",
      "metadata": {
        "id": "Rz6djPqUWps9",
        "colab_type": "code",
        "colab": {
          "base_uri": "https://localhost:8080/",
          "height": 90
        },
        "outputId": "dcb3214b-a5f2-4670-b64c-59773c821aca"
      },
      "source": [
        "tf.reset_default_graph() # 기존의 그려진 텐서플로우 그래프를 제거합니다.\n",
        "\n",
        "pretraindir = './results/pretrained' \n",
        "savedir = './results/bbdropout/sample_run' \n",
        "if not os.path.isdir(savedir):\n",
        "    os.makedirs(savedir)\n",
        "\n",
        "batch_size = 100\n",
        "n_epochs = 60\n",
        "save_freq = 20\n",
        "mnist, n_train_batches, n_test_batches = mnist_input(batch_size)\n",
        "x = tf.placeholder(tf.float32, [None, 784])\n",
        "y = tf.placeholder(tf.float32, [None, 10])\n",
        "N = mnist.train.num_examples\n",
        "dropout = bbdropout\n",
        "net = lenet_dense(x, y, True, dropout=dropout)\n",
        "tnet = lenet_dense(x, y, False, reuse=True, dropout=dropout)\n",
        "\n",
        "def train():\n",
        "    loss = net['cent'] + tf.add_n(net['kl'])/float(N) + net['wd'] \n",
        "    global_step = tf.train.get_or_create_global_step()\n",
        "    bdr = [int(n_train_batches*(n_epochs-1)*r) for r in [0.5, 0.75]]\n",
        "    vals = [1e-2, 1e-3, 1e-4]\n",
        "    lr = tf.train.piecewise_constant(tf.cast(global_step, tf.int32), bdr, vals)\n",
        "    train_op1 = tf.train.AdamOptimizer(lr).minimize(loss,\n",
        "            var_list=net['qpi_vars'], global_step=global_step)\n",
        "    train_op2 = tf.train.AdamOptimizer(0.1*lr).minimize(loss,\n",
        "            var_list=net['weights'])\n",
        "    train_op = tf.group(train_op1, train_op2)\n",
        "\n",
        "    pretrain_saver = tf.train.Saver(net['weights'])\n",
        "    saver = tf.train.Saver(net['weights']+net['qpi_vars'])\n",
        "    logfile = open(os.path.join(savedir, 'train.log'), 'w', 0)\n",
        "\n",
        "    sess = tf.Session()\n",
        "    sess.run(tf.global_variables_initializer())\n",
        "    pretrain_saver.restore(sess, os.path.join(pretraindir, 'model'))\n",
        "\n",
        "    train_logger = Accumulator('cent', 'acc')\n",
        "    train_to_run = [train_op, net['cent'], net['acc']]\n",
        "    test_logger = Accumulator('cent', 'acc')\n",
        "    test_to_run = [tnet['cent'], tnet['acc']]\n",
        "    for i in range(n_epochs):\n",
        "        line = 'Epoch %d start, learning rate %f' % (i+1, sess.run(lr))\n",
        "        print(line)\n",
        "        logfile.write(line + '\\n')\n",
        "        train_logger.clear()\n",
        "        start = time.time()\n",
        "        for j in range(n_train_batches):\n",
        "            bx, by = mnist.train.next_batch(batch_size)\n",
        "            train_logger.accum(sess.run(train_to_run, {x:bx, y:by}))\n",
        "        train_logger.print_(header='train', epoch=i+1,\n",
        "                time=time.time()-start, logfile=logfile)\n",
        "\n",
        "        test_logger.clear()\n",
        "        for j in range(n_test_batches):\n",
        "            bx, by = mnist.test.next_batch(batch_size)\n",
        "            test_logger.accum(sess.run(test_to_run, {x:bx, y:by}))\n",
        "        test_logger.print_(header='test', epoch=i+1,\n",
        "                time=time.time()-start, logfile=logfile)\n",
        "        #line = 'kl: ' + str(sess.run(tnet['kl'])) + '\\n'\n",
        "        line += '\\nn_active: ' + str(sess.run(tnet['n_active'])) + '\\n'\n",
        "        print(line)\n",
        "        logfile.write(line+'\\n')\n",
        "\n",
        "        if (i+1)% save_freq == 0:\n",
        "            saver.save(sess, os.path.join(savedir, 'model'))\n",
        "\n",
        "    logfile.close()\n",
        "    saver.save(sess, os.path.join(savedir, 'model'))"
      ],
      "execution_count": 18,
      "outputs": [
        {
          "output_type": "stream",
          "text": [
            "Extracting ./mnist/train-images-idx3-ubyte.gz\n",
            "Extracting ./mnist/train-labels-idx1-ubyte.gz\n",
            "Extracting ./mnist/t10k-images-idx3-ubyte.gz\n",
            "Extracting ./mnist/t10k-labels-idx1-ubyte.gz\n"
          ],
          "name": "stdout"
        }
      ]
    },
    {
      "cell_type": "code",
      "metadata": {
        "id": "s_0exUrqhel8",
        "colab_type": "code",
        "outputId": "8be4a28c-485b-4124-f3dd-a6066f1eacfe",
        "colab": {
          "base_uri": "https://localhost:8080/",
          "height": 1000
        }
      },
      "source": [
        "train()"
      ],
      "execution_count": 19,
      "outputs": [
        {
          "output_type": "stream",
          "text": [
            "Epoch 1 start, learning rate 0.010000\n",
            "train: epoch 1, (4.767 secs), cent 0.407368, acc 0.879783\n",
            "test: epoch 1, (5.067 secs), cent 0.105316, acc 0.967300\n",
            "Epoch 1 start, learning rate 0.010000\n",
            "n_active: [519, 469, 296]\n",
            "\n",
            "Epoch 2 start, learning rate 0.010000\n",
            "train: epoch 2, (4.068 secs), cent 0.165206, acc 0.948550\n",
            "test: epoch 2, (4.315 secs), cent 0.080664, acc 0.973900\n",
            "Epoch 2 start, learning rate 0.010000\n",
            "n_active: [507, 464, 296]\n",
            "\n",
            "Epoch 3 start, learning rate 0.010000\n",
            "train: epoch 3, (4.089 secs), cent 0.120991, acc 0.962133\n",
            "test: epoch 3, (4.331 secs), cent 0.065733, acc 0.979900\n",
            "Epoch 3 start, learning rate 0.010000\n",
            "n_active: [502, 461, 296]\n",
            "\n",
            "Epoch 4 start, learning rate 0.010000\n",
            "train: epoch 4, (4.059 secs), cent 0.102603, acc 0.968150\n",
            "test: epoch 4, (4.296 secs), cent 0.060035, acc 0.980400\n",
            "Epoch 4 start, learning rate 0.010000\n",
            "n_active: [496, 456, 296]\n",
            "\n",
            "Epoch 5 start, learning rate 0.010000\n",
            "train: epoch 5, (4.146 secs), cent 0.087195, acc 0.972700\n",
            "test: epoch 5, (4.397 secs), cent 0.056786, acc 0.981600\n",
            "Epoch 5 start, learning rate 0.010000\n",
            "n_active: [488, 455, 296]\n",
            "\n",
            "Epoch 6 start, learning rate 0.010000\n",
            "train: epoch 6, (4.216 secs), cent 0.077088, acc 0.976117\n",
            "test: epoch 6, (4.470 secs), cent 0.055389, acc 0.983200\n",
            "Epoch 6 start, learning rate 0.010000\n",
            "n_active: [483, 453, 296]\n",
            "\n",
            "Epoch 7 start, learning rate 0.010000\n",
            "train: epoch 7, (4.174 secs), cent 0.072104, acc 0.977150\n",
            "test: epoch 7, (4.406 secs), cent 0.055888, acc 0.983000\n",
            "Epoch 7 start, learning rate 0.010000\n",
            "n_active: [478, 452, 296]\n",
            "\n",
            "Epoch 8 start, learning rate 0.010000\n",
            "train: epoch 8, (4.179 secs), cent 0.066732, acc 0.978567\n",
            "test: epoch 8, (4.424 secs), cent 0.054670, acc 0.982100\n",
            "Epoch 8 start, learning rate 0.010000\n",
            "n_active: [477, 450, 296]\n",
            "\n",
            "Epoch 9 start, learning rate 0.010000\n",
            "train: epoch 9, (4.204 secs), cent 0.061943, acc 0.980117\n",
            "test: epoch 9, (4.435 secs), cent 0.050333, acc 0.983700\n",
            "Epoch 9 start, learning rate 0.010000\n",
            "n_active: [471, 446, 296]\n",
            "\n",
            "Epoch 10 start, learning rate 0.010000\n",
            "train: epoch 10, (4.157 secs), cent 0.061612, acc 0.980050\n",
            "test: epoch 10, (4.387 secs), cent 0.050370, acc 0.983700\n",
            "Epoch 10 start, learning rate 0.010000\n",
            "n_active: [466, 437, 296]\n",
            "\n",
            "Epoch 11 start, learning rate 0.010000\n",
            "train: epoch 11, (4.163 secs), cent 0.055591, acc 0.982417\n",
            "test: epoch 11, (4.393 secs), cent 0.053148, acc 0.983900\n",
            "Epoch 11 start, learning rate 0.010000\n",
            "n_active: [454, 427, 295]\n",
            "\n",
            "Epoch 12 start, learning rate 0.010000\n",
            "train: epoch 12, (4.188 secs), cent 0.055490, acc 0.981833\n",
            "test: epoch 12, (4.429 secs), cent 0.052601, acc 0.983800\n",
            "Epoch 12 start, learning rate 0.010000\n",
            "n_active: [449, 411, 294]\n",
            "\n",
            "Epoch 13 start, learning rate 0.010000\n",
            "train: epoch 13, (4.173 secs), cent 0.050264, acc 0.983550\n",
            "test: epoch 13, (4.422 secs), cent 0.050996, acc 0.983500\n",
            "Epoch 13 start, learning rate 0.010000\n",
            "n_active: [444, 391, 293]\n",
            "\n",
            "Epoch 14 start, learning rate 0.010000\n",
            "train: epoch 14, (4.229 secs), cent 0.047800, acc 0.984950\n",
            "test: epoch 14, (4.467 secs), cent 0.051714, acc 0.984300\n",
            "Epoch 14 start, learning rate 0.010000\n",
            "n_active: [439, 374, 288]\n",
            "\n",
            "Epoch 15 start, learning rate 0.010000\n",
            "train: epoch 15, (4.195 secs), cent 0.045922, acc 0.985383\n",
            "test: epoch 15, (4.435 secs), cent 0.055378, acc 0.983900\n",
            "Epoch 15 start, learning rate 0.010000\n",
            "n_active: [432, 356, 284]\n",
            "\n",
            "Epoch 16 start, learning rate 0.010000\n",
            "train: epoch 16, (4.171 secs), cent 0.046104, acc 0.985150\n",
            "test: epoch 16, (4.410 secs), cent 0.056227, acc 0.982000\n",
            "Epoch 16 start, learning rate 0.010000\n",
            "n_active: [425, 337, 281]\n",
            "\n",
            "Epoch 17 start, learning rate 0.010000\n",
            "train: epoch 17, (4.203 secs), cent 0.045122, acc 0.985000\n",
            "test: epoch 17, (4.461 secs), cent 0.047194, acc 0.985200\n",
            "Epoch 17 start, learning rate 0.010000\n",
            "n_active: [420, 320, 275]\n",
            "\n",
            "Epoch 18 start, learning rate 0.010000\n",
            "train: epoch 18, (4.202 secs), cent 0.041350, acc 0.986150\n",
            "test: epoch 18, (4.439 secs), cent 0.048037, acc 0.985100\n",
            "Epoch 18 start, learning rate 0.010000\n",
            "n_active: [418, 309, 264]\n",
            "\n",
            "Epoch 19 start, learning rate 0.010000\n",
            "train: epoch 19, (4.204 secs), cent 0.039984, acc 0.986967\n",
            "test: epoch 19, (4.438 secs), cent 0.056546, acc 0.983300\n",
            "Epoch 19 start, learning rate 0.010000\n",
            "n_active: [417, 302, 250]\n",
            "\n",
            "Epoch 20 start, learning rate 0.010000\n",
            "train: epoch 20, (4.217 secs), cent 0.040685, acc 0.986933\n",
            "test: epoch 20, (4.452 secs), cent 0.050858, acc 0.983500\n",
            "Epoch 20 start, learning rate 0.010000\n",
            "n_active: [411, 292, 243]\n",
            "\n",
            "Epoch 21 start, learning rate 0.010000\n",
            "train: epoch 21, (4.105 secs), cent 0.038946, acc 0.987550\n",
            "test: epoch 21, (4.343 secs), cent 0.047813, acc 0.985400\n",
            "Epoch 21 start, learning rate 0.010000\n",
            "n_active: [406, 279, 233]\n",
            "\n",
            "Epoch 22 start, learning rate 0.010000\n",
            "train: epoch 22, (4.216 secs), cent 0.036272, acc 0.988217\n",
            "test: epoch 22, (4.442 secs), cent 0.052161, acc 0.984200\n",
            "Epoch 22 start, learning rate 0.010000\n",
            "n_active: [399, 265, 223]\n",
            "\n",
            "Epoch 23 start, learning rate 0.010000\n",
            "train: epoch 23, (4.158 secs), cent 0.037711, acc 0.987600\n",
            "test: epoch 23, (4.417 secs), cent 0.050445, acc 0.985100\n",
            "Epoch 23 start, learning rate 0.010000\n",
            "n_active: [394, 256, 217]\n",
            "\n",
            "Epoch 24 start, learning rate 0.010000\n",
            "train: epoch 24, (4.362 secs), cent 0.036046, acc 0.988317\n",
            "test: epoch 24, (4.614 secs), cent 0.050200, acc 0.984600\n",
            "Epoch 24 start, learning rate 0.010000\n",
            "n_active: [393, 247, 206]\n",
            "\n",
            "Epoch 25 start, learning rate 0.010000\n",
            "train: epoch 25, (4.356 secs), cent 0.035327, acc 0.988200\n",
            "test: epoch 25, (4.623 secs), cent 0.049025, acc 0.986300\n",
            "Epoch 25 start, learning rate 0.010000\n",
            "n_active: [388, 242, 202]\n",
            "\n",
            "Epoch 26 start, learning rate 0.010000\n",
            "train: epoch 26, (4.159 secs), cent 0.033896, acc 0.989133\n",
            "test: epoch 26, (4.389 secs), cent 0.046686, acc 0.986200\n",
            "Epoch 26 start, learning rate 0.010000\n",
            "n_active: [386, 240, 193]\n",
            "\n",
            "Epoch 27 start, learning rate 0.010000\n",
            "train: epoch 27, (4.203 secs), cent 0.033559, acc 0.988867\n",
            "test: epoch 27, (4.429 secs), cent 0.047949, acc 0.985300\n",
            "Epoch 27 start, learning rate 0.010000\n",
            "n_active: [379, 232, 186]\n",
            "\n",
            "Epoch 28 start, learning rate 0.010000\n",
            "train: epoch 28, (4.032 secs), cent 0.033821, acc 0.989033\n",
            "test: epoch 28, (4.265 secs), cent 0.049790, acc 0.985600\n",
            "Epoch 28 start, learning rate 0.010000\n",
            "n_active: [378, 222, 183]\n",
            "\n",
            "Epoch 29 start, learning rate 0.010000\n",
            "train: epoch 29, (4.136 secs), cent 0.032402, acc 0.989583\n",
            "test: epoch 29, (4.386 secs), cent 0.047458, acc 0.985900\n",
            "Epoch 29 start, learning rate 0.010000\n",
            "n_active: [375, 219, 177]\n",
            "\n",
            "Epoch 30 start, learning rate 0.010000\n",
            "train: epoch 30, (4.127 secs), cent 0.026727, acc 0.991400\n",
            "test: epoch 30, (4.364 secs), cent 0.044139, acc 0.987100\n",
            "Epoch 30 start, learning rate 0.010000\n",
            "n_active: [374, 216, 174]\n",
            "\n",
            "Epoch 31 start, learning rate 0.001000\n",
            "train: epoch 31, (4.119 secs), cent 0.019111, acc 0.994200\n",
            "test: epoch 31, (4.350 secs), cent 0.042588, acc 0.987000\n",
            "Epoch 31 start, learning rate 0.001000\n",
            "n_active: [373, 215, 174]\n",
            "\n",
            "Epoch 32 start, learning rate 0.001000\n",
            "train: epoch 32, (4.145 secs), cent 0.017879, acc 0.994417\n",
            "test: epoch 32, (4.389 secs), cent 0.042553, acc 0.987400\n",
            "Epoch 32 start, learning rate 0.001000\n",
            "n_active: [372, 215, 174]\n",
            "\n",
            "Epoch 33 start, learning rate 0.001000\n",
            "train: epoch 33, (4.093 secs), cent 0.017188, acc 0.994633\n",
            "test: epoch 33, (4.338 secs), cent 0.043098, acc 0.987500\n",
            "Epoch 33 start, learning rate 0.001000\n",
            "n_active: [372, 215, 173]\n",
            "\n",
            "Epoch 34 start, learning rate 0.001000\n",
            "train: epoch 34, (4.220 secs), cent 0.016844, acc 0.995067\n",
            "test: epoch 34, (4.463 secs), cent 0.042912, acc 0.987400\n",
            "Epoch 34 start, learning rate 0.001000\n",
            "n_active: [370, 213, 170]\n",
            "\n",
            "Epoch 35 start, learning rate 0.001000\n",
            "train: epoch 35, (4.177 secs), cent 0.015481, acc 0.995650\n",
            "test: epoch 35, (4.416 secs), cent 0.043134, acc 0.987000\n",
            "Epoch 35 start, learning rate 0.001000\n",
            "n_active: [370, 211, 170]\n",
            "\n",
            "Epoch 36 start, learning rate 0.001000\n",
            "train: epoch 36, (4.200 secs), cent 0.015814, acc 0.995267\n",
            "test: epoch 36, (4.433 secs), cent 0.043086, acc 0.987600\n",
            "Epoch 36 start, learning rate 0.001000\n",
            "n_active: [369, 211, 169]\n",
            "\n",
            "Epoch 37 start, learning rate 0.001000\n",
            "train: epoch 37, (4.134 secs), cent 0.016064, acc 0.995150\n",
            "test: epoch 37, (4.371 secs), cent 0.042456, acc 0.987500\n",
            "Epoch 37 start, learning rate 0.001000\n",
            "n_active: [369, 208, 166]\n",
            "\n",
            "Epoch 38 start, learning rate 0.001000\n",
            "train: epoch 38, (4.106 secs), cent 0.016176, acc 0.995350\n",
            "test: epoch 38, (4.353 secs), cent 0.041884, acc 0.987700\n",
            "Epoch 38 start, learning rate 0.001000\n",
            "n_active: [369, 208, 163]\n",
            "\n",
            "Epoch 39 start, learning rate 0.001000\n",
            "train: epoch 39, (4.110 secs), cent 0.015719, acc 0.995350\n",
            "test: epoch 39, (4.355 secs), cent 0.042292, acc 0.987500\n",
            "Epoch 39 start, learning rate 0.001000\n",
            "n_active: [369, 205, 163]\n",
            "\n",
            "Epoch 40 start, learning rate 0.001000\n",
            "train: epoch 40, (4.130 secs), cent 0.016441, acc 0.994917\n",
            "test: epoch 40, (4.362 secs), cent 0.041793, acc 0.987600\n",
            "Epoch 40 start, learning rate 0.001000\n",
            "n_active: [368, 202, 162]\n",
            "\n",
            "Epoch 41 start, learning rate 0.001000\n",
            "train: epoch 41, (4.309 secs), cent 0.016213, acc 0.995300\n",
            "test: epoch 41, (4.549 secs), cent 0.041666, acc 0.986900\n",
            "Epoch 41 start, learning rate 0.001000\n",
            "n_active: [367, 201, 160]\n",
            "\n",
            "Epoch 42 start, learning rate 0.001000\n",
            "train: epoch 42, (4.254 secs), cent 0.015662, acc 0.995350\n",
            "test: epoch 42, (4.488 secs), cent 0.042538, acc 0.987100\n",
            "Epoch 42 start, learning rate 0.001000\n",
            "n_active: [367, 201, 157]\n",
            "\n",
            "Epoch 43 start, learning rate 0.001000\n",
            "train: epoch 43, (4.124 secs), cent 0.015976, acc 0.994850\n",
            "test: epoch 43, (4.370 secs), cent 0.041736, acc 0.987000\n",
            "Epoch 43 start, learning rate 0.001000\n",
            "n_active: [367, 201, 156]\n",
            "\n",
            "Epoch 44 start, learning rate 0.001000\n",
            "train: epoch 44, (4.197 secs), cent 0.016065, acc 0.995233\n",
            "test: epoch 44, (4.440 secs), cent 0.042033, acc 0.987800\n",
            "Epoch 44 start, learning rate 0.001000\n",
            "n_active: [367, 199, 153]\n",
            "\n",
            "Epoch 45 start, learning rate 0.001000\n",
            "train: epoch 45, (4.118 secs), cent 0.014850, acc 0.995683\n",
            "test: epoch 45, (4.349 secs), cent 0.042475, acc 0.987400\n",
            "Epoch 45 start, learning rate 0.001000\n",
            "n_active: [367, 199, 152]\n",
            "\n",
            "Epoch 46 start, learning rate 0.000100\n",
            "train: epoch 46, (4.101 secs), cent 0.014707, acc 0.995817\n",
            "test: epoch 46, (4.333 secs), cent 0.042258, acc 0.987800\n",
            "Epoch 46 start, learning rate 0.000100\n",
            "n_active: [367, 199, 152]\n",
            "\n",
            "Epoch 47 start, learning rate 0.000100\n",
            "train: epoch 47, (4.105 secs), cent 0.014360, acc 0.995917\n",
            "test: epoch 47, (4.356 secs), cent 0.042133, acc 0.987900\n",
            "Epoch 47 start, learning rate 0.000100\n",
            "n_active: [367, 199, 152]\n",
            "\n",
            "Epoch 48 start, learning rate 0.000100\n",
            "train: epoch 48, (4.169 secs), cent 0.014830, acc 0.995400\n",
            "test: epoch 48, (4.413 secs), cent 0.042028, acc 0.987700\n",
            "Epoch 48 start, learning rate 0.000100\n",
            "n_active: [367, 199, 152]\n",
            "\n",
            "Epoch 49 start, learning rate 0.000100\n",
            "train: epoch 49, (4.267 secs), cent 0.014816, acc 0.995933\n",
            "test: epoch 49, (4.513 secs), cent 0.041896, acc 0.987700\n",
            "Epoch 49 start, learning rate 0.000100\n",
            "n_active: [367, 199, 152]\n",
            "\n",
            "Epoch 50 start, learning rate 0.000100\n",
            "train: epoch 50, (4.257 secs), cent 0.014276, acc 0.996000\n",
            "test: epoch 50, (4.512 secs), cent 0.041620, acc 0.987800\n",
            "Epoch 50 start, learning rate 0.000100\n",
            "n_active: [367, 199, 152]\n",
            "\n",
            "Epoch 51 start, learning rate 0.000100\n",
            "train: epoch 51, (4.357 secs), cent 0.014780, acc 0.995767\n",
            "test: epoch 51, (4.609 secs), cent 0.041467, acc 0.987800\n",
            "Epoch 51 start, learning rate 0.000100\n",
            "n_active: [367, 199, 152]\n",
            "\n",
            "Epoch 52 start, learning rate 0.000100\n",
            "train: epoch 52, (4.348 secs), cent 0.015164, acc 0.995350\n",
            "test: epoch 52, (4.593 secs), cent 0.041574, acc 0.988000\n",
            "Epoch 52 start, learning rate 0.000100\n",
            "n_active: [367, 199, 152]\n",
            "\n",
            "Epoch 53 start, learning rate 0.000100\n",
            "train: epoch 53, (4.281 secs), cent 0.014415, acc 0.996100\n",
            "test: epoch 53, (4.529 secs), cent 0.041573, acc 0.988000\n",
            "Epoch 53 start, learning rate 0.000100\n",
            "n_active: [367, 199, 152]\n",
            "\n",
            "Epoch 54 start, learning rate 0.000100\n",
            "train: epoch 54, (4.100 secs), cent 0.014957, acc 0.995617\n",
            "test: epoch 54, (4.332 secs), cent 0.041790, acc 0.988100\n",
            "Epoch 54 start, learning rate 0.000100\n",
            "n_active: [367, 199, 152]\n",
            "\n",
            "Epoch 55 start, learning rate 0.000100\n",
            "train: epoch 55, (4.154 secs), cent 0.014503, acc 0.995767\n",
            "test: epoch 55, (4.398 secs), cent 0.041982, acc 0.987800\n",
            "Epoch 55 start, learning rate 0.000100\n",
            "n_active: [367, 199, 152]\n",
            "\n",
            "Epoch 56 start, learning rate 0.000100\n",
            "train: epoch 56, (4.245 secs), cent 0.014843, acc 0.996017\n",
            "test: epoch 56, (4.481 secs), cent 0.041735, acc 0.987800\n",
            "Epoch 56 start, learning rate 0.000100\n",
            "n_active: [367, 199, 152]\n",
            "\n",
            "Epoch 57 start, learning rate 0.000100\n",
            "train: epoch 57, (4.177 secs), cent 0.014728, acc 0.995800\n",
            "test: epoch 57, (4.419 secs), cent 0.041808, acc 0.987700\n",
            "Epoch 57 start, learning rate 0.000100\n",
            "n_active: [367, 199, 152]\n",
            "\n",
            "Epoch 58 start, learning rate 0.000100\n",
            "train: epoch 58, (4.121 secs), cent 0.014840, acc 0.995817\n",
            "test: epoch 58, (4.357 secs), cent 0.041724, acc 0.987500\n",
            "Epoch 58 start, learning rate 0.000100\n",
            "n_active: [367, 199, 152]\n",
            "\n",
            "Epoch 59 start, learning rate 0.000100\n",
            "train: epoch 59, (4.058 secs), cent 0.014415, acc 0.995833\n",
            "test: epoch 59, (4.296 secs), cent 0.041864, acc 0.987900\n",
            "Epoch 59 start, learning rate 0.000100\n",
            "n_active: [367, 199, 152]\n",
            "\n",
            "Epoch 60 start, learning rate 0.000100\n",
            "train: epoch 60, (4.059 secs), cent 0.014104, acc 0.996083\n",
            "test: epoch 60, (4.295 secs), cent 0.041675, acc 0.987700\n",
            "Epoch 60 start, learning rate 0.000100\n",
            "n_active: [367, 199, 152]\n",
            "\n"
          ],
          "name": "stdout"
        }
      ]
    },
    {
      "cell_type": "markdown",
      "metadata": {
        "id": "O72sZ36dIosC",
        "colab_type": "text"
      },
      "source": [
        "## Test"
      ]
    },
    {
      "cell_type": "code",
      "metadata": {
        "id": "iYDT-eQ1kwQz",
        "colab_type": "code",
        "outputId": "7dbdb5ad-1b6f-4380-dd13-804e895ee9b1",
        "colab": {
          "base_uri": "https://localhost:8080/",
          "height": 108
        }
      },
      "source": [
        "def test():\n",
        "    sess = tf.Session()\n",
        "    saver = tf.train.Saver(tnet['weights']+tnet['qpi_vars'])\n",
        "    saver.restore(sess, os.path.join(savedir, 'model'))\n",
        "    logger = Accumulator('cent', 'acc')\n",
        "    to_run = [tnet['cent'], tnet['acc']]\n",
        "    for j in range(n_test_batches):\n",
        "        bx, by = mnist.test.next_batch(batch_size)\n",
        "        logger.accum(sess.run(to_run, {x:bx, y:by}))\n",
        "    logger.print_(header='test')\n",
        "    \n",
        "    n_active = sess.run(tnet['n_active'])\n",
        "    print(\"The percentage of activated neurons per layer:\")\n",
        "    for na, nl in zip(n_active, [784, 500, 300]):\n",
        "      print('{}/{} = {:.2f}%'.format(na, nl, float(na)/nl * 100))\n",
        "    \n",
        "test()"
      ],
      "execution_count": 20,
      "outputs": [
        {
          "output_type": "stream",
          "text": [
            "test: cent 0.041675, acc 0.987700\n",
            "The percentage of activated neurons per layer:\n",
            "367/784 = 46.81%\n",
            "199/500 = 39.80%\n",
            "152/300 = 50.67%\n"
          ],
          "name": "stdout"
        }
      ]
    },
    {
      "cell_type": "markdown",
      "metadata": {
        "id": "-8y4uwf-IqiR",
        "colab_type": "text"
      },
      "source": [
        "## Visualization"
      ]
    },
    {
      "cell_type": "code",
      "metadata": {
        "id": "n0xBULDNoNG_",
        "colab_type": "code",
        "outputId": "9f417b0e-23bb-4fe4-d7a8-3237648a4fa1",
        "colab": {
          "base_uri": "https://localhost:8080/",
          "height": 404
        }
      },
      "source": [
        "def visualize():\n",
        "    sess = tf.Session()\n",
        "    saver = tf.train.Saver(tnet['weights']+tnet['qpi_vars'])\n",
        "    saver.restore(sess, os.path.join(savedir, 'model'))\n",
        "\n",
        "    n_drop = len(tnet['n_active'])\n",
        "    fig = figure('pi', figsize=(8,6))\n",
        "    axarr = fig.subplots(n_drop)\n",
        "    for i in range(n_drop):\n",
        "        np_pi = sess.run(tnet['pi'][i]).reshape((1,-1))\n",
        "        im = axarr[i].imshow(np_pi, cmap='Blues', aspect='auto')\n",
        "        axarr[i].yaxis.set_visible(False)\n",
        "        axarr[i].xaxis.set_major_locator(MaxNLocator(integer=True))\n",
        "        if i == n_drop-1:\n",
        "            axarr[i].set_xlabel('The Number of Neurons\\nLeNet [784, 500, 300]')\n",
        "        fig.colorbar(im, ax=axarr[i])\n",
        "    show()\n",
        "visualize()"
      ],
      "execution_count": 21,
      "outputs": [
        {
          "output_type": "display_data",
          "data": {
            "image/png": "[encoded data removed]",
            "text/plain": [
              "<Figure size 576x432 with 6 Axes>"
            ]
          },
          "metadata": {
            "tags": []
          }
        }
      ]
    },
    {
      "cell_type": "code",
      "metadata": {
        "id": "JOcZDWwRVyN_",
        "colab_type": "code",
        "colab": {}
      },
      "source": [
        ""
      ],
      "execution_count": 0,
      "outputs": []
    }
  ]
}